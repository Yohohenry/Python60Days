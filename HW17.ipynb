{
 "cells": [
  {
   "cell_type": "markdown",
   "id": "portable-amsterdam",
   "metadata": {},
   "source": [
    "題目 : \n",
    "\n",
    "1. 在速度較慢的時候，可以先從哪邊開始檢查？\n",
    "先從讀取檔案類型檢查先，使用pkl檔會是讀取速度最快\n",
    "2. 資料過大時應採取什麼方式讓記憶體占用量下降？\n",
    "將資料型態改變降級，從int downcast成uint16可以降低四倍的記憶體使用量"
   ]
  }
 ],
 "metadata": {
  "kernelspec": {
   "display_name": "Python 3",
   "language": "python",
   "name": "python3"
  },
  "language_info": {
   "codemirror_mode": {
    "name": "ipython",
    "version": 3
   },
   "file_extension": ".py",
   "mimetype": "text/x-python",
   "name": "python",
   "nbconvert_exporter": "python",
   "pygments_lexer": "ipython3",
   "version": "3.6.8"
  }
 },
 "nbformat": 4,
 "nbformat_minor": 5
}
